{
 "cells": [
  {
   "cell_type": "code",
   "execution_count": 1,
   "id": "d4c43bc4",
   "metadata": {},
   "outputs": [],
   "source": [
    "#Conforme o Livro Pandas Python\n",
    "#Pandas%20Python%20Data%20Wrangling%20para%20Cie%CC%82ncia%20de%20Dados%20(Eduardo%20Corre%CC%82a)%20(z-lib.org).pdf"
   ]
  },
  {
   "cell_type": "code",
   "execution_count": 2,
   "id": "bafd7ab3",
   "metadata": {},
   "outputs": [],
   "source": [
    "import pandas as pd"
   ]
  },
  {
   "cell_type": "code",
   "execution_count": 3,
   "id": "ecbe5b1a",
   "metadata": {},
   "outputs": [],
   "source": [
    "#cria a Series notas\n",
    "notas = pd.Series([7.6, 5.0, 8.5, 9.5, 6.4])"
   ]
  },
  {
   "cell_type": "code",
   "execution_count": 5,
   "id": "ef527abc",
   "metadata": {},
   "outputs": [
    {
     "data": {
      "text/plain": [
       "7.6"
      ]
     },
     "execution_count": 5,
     "metadata": {},
     "output_type": "execute_result"
    }
   ],
   "source": [
    "notas[0]"
   ]
  },
  {
   "cell_type": "code",
   "execution_count": 29,
   "id": "847ff474",
   "metadata": {},
   "outputs": [
    {
     "name": "stdout",
     "output_type": "stream",
     "text": [
      "0    7.6\n",
      "1    5.0\n",
      "2    8.5\n",
      "3    9.5\n",
      "4    6.4\n",
      "dtype: float64\n",
      "---------------\n",
      "Bob      7.6\n",
      "Dayse    5.0\n",
      "Bill     8.5\n",
      "Cris     9.5\n",
      "Jimi     6.4\n",
      "dtype: float64\n"
     ]
    }
   ],
   "source": [
    "#cria a Series alunos\n",
    "lst_matriculas = ['M02','M085','M13','M14','M19']\n",
    "lst_nomes = ['Bob','Dayse','Bill','Cris','Jimi']\n",
    "lst_notas = notas.tolist()\n",
    "alunos = pd.Series(lst_notas,index=lst_nomes)\n",
    "#imprime as duas Series\n",
    "print(notas); print(\"---------------\"); print(alunos)"
   ]
  },
  {
   "cell_type": "code",
   "execution_count": 46,
   "id": "3211b811",
   "metadata": {
    "scrolled": true
   },
   "outputs": [
    {
     "name": "stdout",
     "output_type": "stream",
     "text": [
      "Bill    8.5\n",
      "Cris    9.5\n",
      "Jimi    6.4\n",
      "dtype: float64\n"
     ]
    }
   ],
   "source": [
    "print(alunos[2:]) #Range"
   ]
  },
  {
   "cell_type": "code",
   "execution_count": 19,
   "id": "4354c005",
   "metadata": {},
   "outputs": [],
   "source": [
    "moedas = {'BR':'Real', 'FR': 'Euro',\n",
    "'US':'Dólar'}"
   ]
  },
  {
   "cell_type": "code",
   "execution_count": 22,
   "id": "e4abf579",
   "metadata": {},
   "outputs": [
    {
     "data": {
      "text/plain": [
       "dict"
      ]
     },
     "execution_count": 22,
     "metadata": {},
     "output_type": "execute_result"
    }
   ],
   "source": [
    "type(moedas)"
   ]
  },
  {
   "cell_type": "code",
   "execution_count": 24,
   "id": "f436125b",
   "metadata": {},
   "outputs": [
    {
     "data": {
      "text/plain": [
       "{'BR': 'Real', 'FR': 'Euro', 'US': 'Dólar'}"
      ]
     },
     "execution_count": 24,
     "metadata": {},
     "output_type": "execute_result"
    }
   ],
   "source": [
    "moedas"
   ]
  },
  {
   "cell_type": "markdown",
   "id": "b0c12328",
   "metadata": {},
   "source": []
  },
  {
   "cell_type": "code",
   "execution_count": 25,
   "id": "6b340afa",
   "metadata": {},
   "outputs": [
    {
     "name": "stdout",
     "output_type": "stream",
     "text": [
      "Real\n"
     ]
    }
   ],
   "source": [
    "print(moedas[\"BR\"])"
   ]
  },
  {
   "cell_type": "code",
   "execution_count": 26,
   "id": "3c11eb07",
   "metadata": {},
   "outputs": [
    {
     "name": "stdout",
     "output_type": "stream",
     "text": [
      "Dólar\n"
     ]
    }
   ],
   "source": [
    "print(moedas[\"US\"])"
   ]
  },
  {
   "cell_type": "code",
   "execution_count": 49,
   "id": "a235f2e8",
   "metadata": {},
   "outputs": [],
   "source": [
    "tem_M13 = 'Jimi' in alunos"
   ]
  },
  {
   "cell_type": "code",
   "execution_count": 50,
   "id": "5c8a2b68",
   "metadata": {},
   "outputs": [
    {
     "name": "stdout",
     "output_type": "stream",
     "text": [
      "True\n"
     ]
    }
   ],
   "source": [
    "print(tem_M13)"
   ]
  },
  {
   "cell_type": "code",
   "execution_count": 59,
   "id": "97c3ef6c",
   "metadata": {},
   "outputs": [],
   "source": [
    "myList = ['Bob']"
   ]
  },
  {
   "cell_type": "code",
   "execution_count": 60,
   "id": "42489251",
   "metadata": {},
   "outputs": [
    {
     "data": {
      "text/plain": [
       "Bob      False\n",
       "Dayse    False\n",
       "Bill     False\n",
       "Cris     False\n",
       "Jimi     False\n",
       "dtype: bool"
      ]
     },
     "execution_count": 60,
     "metadata": {},
     "output_type": "execute_result"
    }
   ],
   "source": [
    "alunos.isin(myList)"
   ]
  },
  {
   "cell_type": "code",
   "execution_count": 61,
   "id": "742ed6c2",
   "metadata": {},
   "outputs": [],
   "source": [
    "tem_Bob = alunos.isin(['Bob'])"
   ]
  },
  {
   "cell_type": "code",
   "execution_count": 62,
   "id": "4f4f9d7d",
   "metadata": {},
   "outputs": [
    {
     "name": "stdout",
     "output_type": "stream",
     "text": [
      "Bob      False\n",
      "Dayse    False\n",
      "Bill     False\n",
      "Cris     False\n",
      "Jimi     False\n",
      "dtype: bool\n"
     ]
    }
   ],
   "source": [
    "print(tem_Bob)"
   ]
  },
  {
   "cell_type": "code",
   "execution_count": null,
   "id": "020cb9c4",
   "metadata": {},
   "outputs": [],
   "source": []
  },
  {
   "cell_type": "code",
   "execution_count": null,
   "id": "36ef6bb9",
   "metadata": {},
   "outputs": [],
   "source": []
  }
 ],
 "metadata": {
  "kernelspec": {
   "display_name": "Python 3 (ipykernel)",
   "language": "python",
   "name": "python3"
  },
  "language_info": {
   "codemirror_mode": {
    "name": "ipython",
    "version": 3
   },
   "file_extension": ".py",
   "mimetype": "text/x-python",
   "name": "python",
   "nbconvert_exporter": "python",
   "pygments_lexer": "ipython3",
   "version": "3.9.6"
  }
 },
 "nbformat": 4,
 "nbformat_minor": 5
}
