{
 "cells": [
  {
   "cell_type": "code",
   "execution_count": 1,
   "id": "377e5540",
   "metadata": {},
   "outputs": [],
   "source": [
    "#Conforme o Livro Pandas Python\n",
    "#Pandas%20Python%20Data%20Wrangling%20para%20Cie%CC%82ncia%20de%20Dados%20(Eduardo%20Corre%CC%82a)%20(z-lib.org).pdf"
   ]
  },
  {
   "cell_type": "code",
   "execution_count": 2,
   "id": "46ac558d",
   "metadata": {},
   "outputs": [],
   "source": [
    "import pandas as pd\n",
    "import numpy as np"
   ]
  },
  {
   "cell_type": "code",
   "execution_count": 3,
   "id": "b63a8177",
   "metadata": {},
   "outputs": [],
   "source": [
    "#cria a Series notas\n",
    "notas = pd.Series([7.6, 5.0, 8.5, 9.5, 6.4])"
   ]
  },
  {
   "cell_type": "code",
   "execution_count": 4,
   "id": "704d2557",
   "metadata": {},
   "outputs": [
    {
     "data": {
      "text/plain": [
       "7.6"
      ]
     },
     "execution_count": 4,
     "metadata": {},
     "output_type": "execute_result"
    }
   ],
   "source": [
    "notas[0]"
   ]
  },
  {
   "cell_type": "code",
   "execution_count": 5,
   "id": "d7542bee",
   "metadata": {},
   "outputs": [
    {
     "name": "stdout",
     "output_type": "stream",
     "text": [
      "0    7.6\n",
      "1    5.0\n",
      "2    8.5\n",
      "3    9.5\n",
      "4    6.4\n",
      "dtype: float64\n",
      "---------------\n",
      "Bob      7.6\n",
      "Dayse    5.0\n",
      "Bill     8.5\n",
      "Cris     9.5\n",
      "Jimi     6.4\n",
      "dtype: float64\n"
     ]
    }
   ],
   "source": [
    "#cria a Series alunos\n",
    "lst_matriculas = ['M02','M085','M13','M14','M19']\n",
    "lst_nomes = ['Bob','Dayse','Bill','Cris','Jimi']\n",
    "lst_notas = notas.tolist()\n",
    "alunos = pd.Series(lst_notas,index=lst_nomes)\n",
    "#imprime as duas Series\n",
    "print(notas); print(\"---------------\"); print(alunos)"
   ]
  },
  {
   "cell_type": "code",
   "execution_count": 6,
   "id": "a5076d20",
   "metadata": {
    "scrolled": true
   },
   "outputs": [
    {
     "name": "stdout",
     "output_type": "stream",
     "text": [
      "Bill    8.5\n",
      "Cris    9.5\n",
      "Jimi    6.4\n",
      "dtype: float64\n"
     ]
    }
   ],
   "source": [
    "print(alunos[2:]) #Range"
   ]
  },
  {
   "cell_type": "code",
   "execution_count": 7,
   "id": "33d668d5",
   "metadata": {},
   "outputs": [],
   "source": [
    "moedas = {'BR':'Real', 'FR': 'Euro',\n",
    "'US':'Dólar'}"
   ]
  },
  {
   "cell_type": "code",
   "execution_count": 8,
   "id": "5f982537",
   "metadata": {},
   "outputs": [
    {
     "data": {
      "text/plain": [
       "dict"
      ]
     },
     "execution_count": 8,
     "metadata": {},
     "output_type": "execute_result"
    }
   ],
   "source": [
    "type(moedas)"
   ]
  },
  {
   "cell_type": "code",
   "execution_count": 9,
   "id": "54b79880",
   "metadata": {},
   "outputs": [
    {
     "data": {
      "text/plain": [
       "{'BR': 'Real', 'FR': 'Euro', 'US': 'Dólar'}"
      ]
     },
     "execution_count": 9,
     "metadata": {},
     "output_type": "execute_result"
    }
   ],
   "source": [
    "moedas"
   ]
  },
  {
   "cell_type": "markdown",
   "id": "0bd90430",
   "metadata": {},
   "source": []
  },
  {
   "cell_type": "code",
   "execution_count": 10,
   "id": "316193bb",
   "metadata": {},
   "outputs": [
    {
     "name": "stdout",
     "output_type": "stream",
     "text": [
      "Real\n"
     ]
    }
   ],
   "source": [
    "print(moedas[\"BR\"])"
   ]
  },
  {
   "cell_type": "code",
   "execution_count": 11,
   "id": "f8be8e44",
   "metadata": {},
   "outputs": [
    {
     "name": "stdout",
     "output_type": "stream",
     "text": [
      "Dólar\n"
     ]
    }
   ],
   "source": [
    "print(moedas[\"US\"])"
   ]
  },
  {
   "cell_type": "code",
   "execution_count": 12,
   "id": "c87721b4",
   "metadata": {},
   "outputs": [],
   "source": [
    "tem_M13 = 'Jimi' in alunos"
   ]
  },
  {
   "cell_type": "code",
   "execution_count": 13,
   "id": "820f479e",
   "metadata": {},
   "outputs": [
    {
     "name": "stdout",
     "output_type": "stream",
     "text": [
      "True\n"
     ]
    }
   ],
   "source": [
    "print(tem_M13)"
   ]
  },
  {
   "cell_type": "code",
   "execution_count": 14,
   "id": "ed52f2b2",
   "metadata": {},
   "outputs": [],
   "source": [
    "myList = ['Bob']"
   ]
  },
  {
   "cell_type": "code",
   "execution_count": 15,
   "id": "78e8ea34",
   "metadata": {},
   "outputs": [
    {
     "data": {
      "text/plain": [
       "Bob      False\n",
       "Dayse    False\n",
       "Bill     False\n",
       "Cris     False\n",
       "Jimi     False\n",
       "dtype: bool"
      ]
     },
     "execution_count": 15,
     "metadata": {},
     "output_type": "execute_result"
    }
   ],
   "source": [
    "alunos.isin(myList)"
   ]
  },
  {
   "cell_type": "code",
   "execution_count": 16,
   "id": "8195ea72",
   "metadata": {},
   "outputs": [],
   "source": [
    "tem_Bob = alunos.isin(['Bob'])"
   ]
  },
  {
   "cell_type": "code",
   "execution_count": 17,
   "id": "dfae7aa9",
   "metadata": {},
   "outputs": [
    {
     "name": "stdout",
     "output_type": "stream",
     "text": [
      "Bob      False\n",
      "Dayse    False\n",
      "Bill     False\n",
      "Cris     False\n",
      "Jimi     False\n",
      "dtype: bool\n"
     ]
    }
   ],
   "source": [
    "print(tem_Bob)"
   ]
  },
  {
   "cell_type": "code",
   "execution_count": 18,
   "id": "0c8f2d77",
   "metadata": {},
   "outputs": [],
   "source": [
    "#cria as Series s1 e s2\n",
    "s1 = pd.Series([2,4,6])\n",
    "s2 = pd.Series([1,3,5])"
   ]
  },
  {
   "cell_type": "code",
   "execution_count": 19,
   "id": "d002e185",
   "metadata": {},
   "outputs": [
    {
     "name": "stdout",
     "output_type": "stream",
     "text": [
      "s1:\n",
      "0    2\n",
      "1    4\n",
      "2    6\n",
      "dtype: int64\n",
      "s2:\n",
      "0    1\n",
      "1    3\n",
      "2    5\n",
      "dtype: int64\n",
      "---------------------------\n",
      "s1 * 2\n",
      "0     4\n",
      "1     8\n",
      "2    12\n",
      "dtype: int64\n"
     ]
    }
   ],
   "source": [
    "print('s1:'); print(s1)\n",
    "print('s2:'); print(s2)\n",
    "#efetua as operações aritméticas\n",
    "print('---------------------------')\n",
    "print('s1 * 2')\n",
    "print(s1 * 2)"
   ]
  },
  {
   "cell_type": "code",
   "execution_count": 20,
   "id": "c18ebed3",
   "metadata": {},
   "outputs": [
    {
     "name": "stdout",
     "output_type": "stream",
     "text": [
      "RangeIndex(start=0, stop=3, step=1)\n"
     ]
    }
   ],
   "source": [
    "print(s1.index)"
   ]
  },
  {
   "cell_type": "code",
   "execution_count": 21,
   "id": "938498cd",
   "metadata": {},
   "outputs": [
    {
     "name": "stdout",
     "output_type": "stream",
     "text": [
      "0    1.414214\n",
      "1    2.000000\n",
      "2    2.449490\n",
      "dtype: float64\n"
     ]
    }
   ],
   "source": [
    "raiz = np.sqrt(s1)\n",
    "print(raiz)"
   ]
  },
  {
   "cell_type": "code",
   "execution_count": 22,
   "id": "2f0b397e",
   "metadata": {},
   "outputs": [
    {
     "data": {
      "text/plain": [
       "'Serie Temporal: Uma série temporal consiste em uma série de dados\\ncoletados em incrementos sucessivos de tempo ou algum outro tipo\\nde indicador de sequência. Um exemplo bem simples é apresentado\\nna figura a seguir: uma Series em que cada elemento representa um\\ndeterminado dia do ano (rótulo) acompanhado da temperatura\\nmáxima registrada no dia em questão em uma determinada cidade (dado)'"
      ]
     },
     "execution_count": 22,
     "metadata": {},
     "output_type": "execute_result"
    }
   ],
   "source": [
    "'''Serie Temporal: Uma série temporal consiste em uma série de dados\n",
    "coletados em incrementos sucessivos de tempo ou algum outro tipo\n",
    "de indicador de sequência. Um exemplo bem simples é apresentado\n",
    "na figura a seguir: uma Series em que cada elemento representa um\n",
    "determinado dia do ano (rótulo) acompanhado da temperatura\n",
    "máxima registrada no dia em questão em uma determinada cidade (dado)'''"
   ]
  },
  {
   "cell_type": "code",
   "execution_count": 23,
   "id": "b864e57a",
   "metadata": {},
   "outputs": [],
   "source": [
    "import os"
   ]
  },
  {
   "cell_type": "code",
   "execution_count": 24,
   "id": "6bd0d5a3",
   "metadata": {},
   "outputs": [
    {
     "data": {
      "text/plain": [
       "'/Users/mauriciobrandalise/Projects/livro_pandasPy'"
      ]
     },
     "execution_count": 24,
     "metadata": {},
     "output_type": "execute_result"
    }
   ],
   "source": [
    "os.path.abspath(os.getcwd())"
   ]
  },
  {
   "cell_type": "code",
   "execution_count": 25,
   "id": "30794ced",
   "metadata": {},
   "outputs": [],
   "source": [
    "paises = pd.read_csv(\"/Users/mauriciobrandalise/Projects/livro_pandasPy/pandas/paises.csv\",index_col=\"sigla\")"
   ]
  },
  {
   "cell_type": "code",
   "execution_count": 26,
   "id": "266b9e14",
   "metadata": {},
   "outputs": [
    {
     "data": {
      "text/html": [
       "<div>\n",
       "<style scoped>\n",
       "    .dataframe tbody tr th:only-of-type {\n",
       "        vertical-align: middle;\n",
       "    }\n",
       "\n",
       "    .dataframe tbody tr th {\n",
       "        vertical-align: top;\n",
       "    }\n",
       "\n",
       "    .dataframe thead th {\n",
       "        text-align: right;\n",
       "    }\n",
       "</style>\n",
       "<table border=\"1\" class=\"dataframe\">\n",
       "  <thead>\n",
       "    <tr style=\"text-align: right;\">\n",
       "      <th></th>\n",
       "      <th>nome</th>\n",
       "      <th>continente</th>\n",
       "      <th>extensao</th>\n",
       "      <th>corVerde</th>\n",
       "    </tr>\n",
       "    <tr>\n",
       "      <th>sigla</th>\n",
       "      <th></th>\n",
       "      <th></th>\n",
       "      <th></th>\n",
       "      <th></th>\n",
       "    </tr>\n",
       "  </thead>\n",
       "  <tbody>\n",
       "    <tr>\n",
       "      <th>AR</th>\n",
       "      <td>Argentina</td>\n",
       "      <td>América</td>\n",
       "      <td>2780</td>\n",
       "      <td>0</td>\n",
       "    </tr>\n",
       "    <tr>\n",
       "      <th>BR</th>\n",
       "      <td>Brasil</td>\n",
       "      <td>América</td>\n",
       "      <td>8511</td>\n",
       "      <td>1</td>\n",
       "    </tr>\n",
       "    <tr>\n",
       "      <th>FR</th>\n",
       "      <td>França</td>\n",
       "      <td>Europa</td>\n",
       "      <td>644</td>\n",
       "      <td>0</td>\n",
       "    </tr>\n",
       "    <tr>\n",
       "      <th>IT</th>\n",
       "      <td>Itália</td>\n",
       "      <td>Europa</td>\n",
       "      <td>301</td>\n",
       "      <td>1</td>\n",
       "    </tr>\n",
       "    <tr>\n",
       "      <th>UK</th>\n",
       "      <td>Reino Unido</td>\n",
       "      <td>Europa</td>\n",
       "      <td>244</td>\n",
       "      <td>0</td>\n",
       "    </tr>\n",
       "  </tbody>\n",
       "</table>\n",
       "</div>"
      ],
      "text/plain": [
       "              nome continente  extensao  corVerde\n",
       "sigla                                            \n",
       "AR       Argentina    América      2780         0\n",
       "BR          Brasil    América      8511         1\n",
       "FR          França     Europa       644         0\n",
       "IT          Itália     Europa       301         1\n",
       "UK     Reino Unido     Europa       244         0"
      ]
     },
     "execution_count": 26,
     "metadata": {},
     "output_type": "execute_result"
    }
   ],
   "source": [
    "paises"
   ]
  },
  {
   "cell_type": "code",
   "execution_count": 27,
   "id": "d527fb41",
   "metadata": {},
   "outputs": [
    {
     "data": {
      "text/plain": [
       "sigla\n",
       "AR      Argentina\n",
       "BR         Brasil\n",
       "FR         França\n",
       "IT         Itália\n",
       "UK    Reino Unido\n",
       "Name: nome, dtype: object"
      ]
     },
     "execution_count": 27,
     "metadata": {},
     "output_type": "execute_result"
    }
   ],
   "source": [
    "paises.nome"
   ]
  },
  {
   "cell_type": "code",
   "execution_count": null,
   "id": "c040a017",
   "metadata": {},
   "outputs": [],
   "source": []
  },
  {
   "cell_type": "code",
   "execution_count": 28,
   "id": "f1671938",
   "metadata": {},
   "outputs": [
    {
     "name": "stdout",
     "output_type": "stream",
     "text": [
      "Requirement already satisfied: openpyxl in /Library/Frameworks/Python.framework/Versions/3.9/lib/python3.9/site-packages (3.0.10)\n",
      "Requirement already satisfied: et-xmlfile in /Library/Frameworks/Python.framework/Versions/3.9/lib/python3.9/site-packages (from openpyxl) (1.1.0)\n",
      "\n",
      "\u001b[1m[\u001b[0m\u001b[34;49mnotice\u001b[0m\u001b[1;39;49m]\u001b[0m\u001b[39;49m A new release of pip available: \u001b[0m\u001b[31;49m22.3\u001b[0m\u001b[39;49m -> \u001b[0m\u001b[32;49m22.3.1\u001b[0m\n",
      "\u001b[1m[\u001b[0m\u001b[34;49mnotice\u001b[0m\u001b[1;39;49m]\u001b[0m\u001b[39;49m To update, run: \u001b[0m\u001b[32;49mpip3.9 install --upgrade pip\u001b[0m\n",
      "Note: you may need to restart the kernel to use updated packages.\n"
     ]
    }
   ],
   "source": [
    "pip install openpyxl"
   ]
  },
  {
   "cell_type": "code",
   "execution_count": 29,
   "id": "43b433e1",
   "metadata": {},
   "outputs": [],
   "source": [
    "capitais_brasil = pd.read_excel(\"/Users/mauriciobrandalise/Projects/livro_pandasPy/pandas/capitais.xlsx\")"
   ]
  },
  {
   "cell_type": "code",
   "execution_count": 30,
   "id": "263a9d2a",
   "metadata": {},
   "outputs": [],
   "source": [
    "capitais_brasil.columns = ['capital', 'regiao', 'populacao']"
   ]
  },
  {
   "cell_type": "code",
   "execution_count": 33,
   "id": "2e216a9a",
   "metadata": {},
   "outputs": [],
   "source": [
    "capitais_brasil_sort = capitais_brasil.sort_values(by='populacao', ascending=False)"
   ]
  },
  {
   "cell_type": "code",
   "execution_count": 34,
   "id": "b9a6d3f9",
   "metadata": {},
   "outputs": [],
   "source": [
    "capitais_brasil_sort.rename(columns={'populacao': 'pop'}, inplace = True)"
   ]
  },
  {
   "cell_type": "code",
   "execution_count": 35,
   "id": "ce291e5c",
   "metadata": {},
   "outputs": [
    {
     "data": {
      "text/html": [
       "<div>\n",
       "<style scoped>\n",
       "    .dataframe tbody tr th:only-of-type {\n",
       "        vertical-align: middle;\n",
       "    }\n",
       "\n",
       "    .dataframe tbody tr th {\n",
       "        vertical-align: top;\n",
       "    }\n",
       "\n",
       "    .dataframe thead th {\n",
       "        text-align: right;\n",
       "    }\n",
       "</style>\n",
       "<table border=\"1\" class=\"dataframe\">\n",
       "  <thead>\n",
       "    <tr style=\"text-align: right;\">\n",
       "      <th></th>\n",
       "      <th>capital</th>\n",
       "      <th>regiao</th>\n",
       "      <th>populacao</th>\n",
       "    </tr>\n",
       "  </thead>\n",
       "  <tbody>\n",
       "    <tr>\n",
       "      <th>0</th>\n",
       "      <td>Belém</td>\n",
       "      <td>Sudeste</td>\n",
       "      <td>1446042</td>\n",
       "    </tr>\n",
       "    <tr>\n",
       "      <th>1</th>\n",
       "      <td>Belo Horizonte</td>\n",
       "      <td>Sudeste</td>\n",
       "      <td>2513451</td>\n",
       "    </tr>\n",
       "    <tr>\n",
       "      <th>2</th>\n",
       "      <td>Boa Vista</td>\n",
       "      <td>Norte</td>\n",
       "      <td>326419</td>\n",
       "    </tr>\n",
       "    <tr>\n",
       "      <th>3</th>\n",
       "      <td>Curitiba</td>\n",
       "      <td>Sul</td>\n",
       "      <td>1893977</td>\n",
       "    </tr>\n",
       "    <tr>\n",
       "      <th>4</th>\n",
       "      <td>Florianópolis</td>\n",
       "      <td>Sul</td>\n",
       "      <td>477798</td>\n",
       "    </tr>\n",
       "    <tr>\n",
       "      <th>5</th>\n",
       "      <td>Macapá</td>\n",
       "      <td>Norte</td>\n",
       "      <td>465495</td>\n",
       "    </tr>\n",
       "    <tr>\n",
       "      <th>6</th>\n",
       "      <td>Manaus</td>\n",
       "      <td>Norte</td>\n",
       "      <td>2094391</td>\n",
       "    </tr>\n",
       "    <tr>\n",
       "      <th>7</th>\n",
       "      <td>Palmas</td>\n",
       "      <td>Norte</td>\n",
       "      <td>279856</td>\n",
       "    </tr>\n",
       "    <tr>\n",
       "      <th>8</th>\n",
       "      <td>Porto Alegre</td>\n",
       "      <td>Sul</td>\n",
       "      <td>1481019</td>\n",
       "    </tr>\n",
       "    <tr>\n",
       "      <th>9</th>\n",
       "      <td>Porto Velho</td>\n",
       "      <td>Norte</td>\n",
       "      <td>511219</td>\n",
       "    </tr>\n",
       "    <tr>\n",
       "      <th>10</th>\n",
       "      <td>Rio Branco</td>\n",
       "      <td>Norte</td>\n",
       "      <td>377057</td>\n",
       "    </tr>\n",
       "    <tr>\n",
       "      <th>11</th>\n",
       "      <td>São Paulo</td>\n",
       "      <td>Sudeste</td>\n",
       "      <td>12038175</td>\n",
       "    </tr>\n",
       "    <tr>\n",
       "      <th>12</th>\n",
       "      <td>Rio de Janeiro</td>\n",
       "      <td>Sudeste</td>\n",
       "      <td>6498837</td>\n",
       "    </tr>\n",
       "    <tr>\n",
       "      <th>13</th>\n",
       "      <td>Vitória</td>\n",
       "      <td>Sudeste</td>\n",
       "      <td>359555</td>\n",
       "    </tr>\n",
       "  </tbody>\n",
       "</table>\n",
       "</div>"
      ],
      "text/plain": [
       "            capital   regiao  populacao\n",
       "0   Belém            Sudeste    1446042\n",
       "1   Belo Horizonte   Sudeste    2513451\n",
       "2   Boa Vista          Norte     326419\n",
       "3   Curitiba             Sul    1893977\n",
       "4   Florianópolis        Sul     477798\n",
       "5   Macapá             Norte     465495\n",
       "6   Manaus             Norte    2094391\n",
       "7   Palmas             Norte     279856\n",
       "8   Porto Alegre         Sul    1481019\n",
       "9   Porto Velho        Norte     511219\n",
       "10  Rio Branco         Norte     377057\n",
       "11  São Paulo        Sudeste   12038175\n",
       "12  Rio de Janeiro   Sudeste    6498837\n",
       "13  Vitória          Sudeste     359555"
      ]
     },
     "execution_count": 35,
     "metadata": {},
     "output_type": "execute_result"
    }
   ],
   "source": [
    "capitais_brasil"
   ]
  },
  {
   "cell_type": "code",
   "execution_count": 37,
   "id": "8b960763",
   "metadata": {},
   "outputs": [
    {
     "data": {
      "text/plain": [
       "<AxesSubplot: >"
      ]
     },
     "execution_count": 37,
     "metadata": {},
     "output_type": "execute_result"
    },
    {
     "data": {
      "image/png": "[encoded data removed]",
      "text/plain": [
       "<Figure size 432x288 with 1 Axes>"
      ]
     },
     "metadata": {
      "needs_background": "light"
     },
     "output_type": "display_data"
    }
   ],
   "source": [
    "import matplotlib.pyplot as plt\n",
    "capitais_brasil[\"populacao\"].plot()\n",
    "#population_max = 15000000"
   ]
  },
  {
   "cell_type": "code",
   "execution_count": 38,
   "id": "4de6a077",
   "metadata": {},
   "outputs": [
    {
     "data": {
      "image/png": "[encoded data removed]",
      "text/plain": [
       "<Figure size 432x288 with 1 Axes>"
      ]
     },
     "metadata": {
      "needs_background": "light"
     },
     "output_type": "display_data"
    }
   ],
   "source": [
    "capitais_brasil_sort.plot(kind='bar',x=\"capital\",y=2)\n",
    "plt.show()"
   ]
  },
  {
   "cell_type": "code",
   "execution_count": 39,
   "id": "b6bc86e3",
   "metadata": {},
   "outputs": [],
   "source": [
    "df = pd.DataFrame({\n",
    "        \"homens\":[4, 2, 7, 3, 1, 4, 2, 4, 8, 1],\n",
    "        \"mulheres\": [5, 4, 6, 5, 4, 2, 6, 6, 4, 3]\n",
    "        })"
   ]
  },
  {
   "cell_type": "code",
   "execution_count": 40,
   "id": "c2c25af5",
   "metadata": {},
   "outputs": [
    {
     "data": {
      "text/html": [
       "<div>\n",
       "<style scoped>\n",
       "    .dataframe tbody tr th:only-of-type {\n",
       "        vertical-align: middle;\n",
       "    }\n",
       "\n",
       "    .dataframe tbody tr th {\n",
       "        vertical-align: top;\n",
       "    }\n",
       "\n",
       "    .dataframe thead th {\n",
       "        text-align: right;\n",
       "    }\n",
       "</style>\n",
       "<table border=\"1\" class=\"dataframe\">\n",
       "  <thead>\n",
       "    <tr style=\"text-align: right;\">\n",
       "      <th></th>\n",
       "      <th>homens</th>\n",
       "      <th>mulheres</th>\n",
       "    </tr>\n",
       "  </thead>\n",
       "  <tbody>\n",
       "    <tr>\n",
       "      <th>0</th>\n",
       "      <td>4</td>\n",
       "      <td>5</td>\n",
       "    </tr>\n",
       "    <tr>\n",
       "      <th>1</th>\n",
       "      <td>2</td>\n",
       "      <td>4</td>\n",
       "    </tr>\n",
       "    <tr>\n",
       "      <th>2</th>\n",
       "      <td>7</td>\n",
       "      <td>6</td>\n",
       "    </tr>\n",
       "    <tr>\n",
       "      <th>3</th>\n",
       "      <td>3</td>\n",
       "      <td>5</td>\n",
       "    </tr>\n",
       "    <tr>\n",
       "      <th>4</th>\n",
       "      <td>1</td>\n",
       "      <td>4</td>\n",
       "    </tr>\n",
       "    <tr>\n",
       "      <th>5</th>\n",
       "      <td>4</td>\n",
       "      <td>2</td>\n",
       "    </tr>\n",
       "    <tr>\n",
       "      <th>6</th>\n",
       "      <td>2</td>\n",
       "      <td>6</td>\n",
       "    </tr>\n",
       "    <tr>\n",
       "      <th>7</th>\n",
       "      <td>4</td>\n",
       "      <td>6</td>\n",
       "    </tr>\n",
       "    <tr>\n",
       "      <th>8</th>\n",
       "      <td>8</td>\n",
       "      <td>4</td>\n",
       "    </tr>\n",
       "    <tr>\n",
       "      <th>9</th>\n",
       "      <td>1</td>\n",
       "      <td>3</td>\n",
       "    </tr>\n",
       "  </tbody>\n",
       "</table>\n",
       "</div>"
      ],
      "text/plain": [
       "   homens  mulheres\n",
       "0       4         5\n",
       "1       2         4\n",
       "2       7         6\n",
       "3       3         5\n",
       "4       1         4\n",
       "5       4         2\n",
       "6       2         6\n",
       "7       4         6\n",
       "8       8         4\n",
       "9       1         3"
      ]
     },
     "execution_count": 40,
     "metadata": {},
     "output_type": "execute_result"
    }
   ],
   "source": [
    "df"
   ]
  },
  {
   "cell_type": "code",
   "execution_count": 43,
   "id": "214ff0c6",
   "metadata": {},
   "outputs": [
    {
     "data": {
      "image/png": "[encoded data removed]",
      "text/plain": [
       "<Figure size 432x288 with 1 Axes>"
      ]
     },
     "metadata": {
      "needs_background": "light"
     },
     "output_type": "display_data"
    }
   ],
   "source": [
    "boxplot = df.boxplot(column=['homens','mulheres'],\n",
    "                     showmeans=True)"
   ]
  },
  {
   "cell_type": "code",
   "execution_count": 44,
   "id": "f3cab293",
   "metadata": {},
   "outputs": [],
   "source": [
    "#Alunos\n",
    "#P26 Estatísticas sobre colunas e linhas de um DataFrame\n",
    "#cria uma DataFrame com as notas de 4 alunos em 3 provas\n",
    "notas = pd.DataFrame({\"A1\":[9.8, 7.2, 8.0],\n",
    "                      \"A2\": [5.3, 4.0, 3.5],\n",
    "                      \"A3\": [5.5, 8.1, 7.2],\n",
    "                      \"A4\": [7.0, 7.5, 6.5]},\n",
    "                      index=[\"P1\",\"P2\",\"P3\"])"
   ]
  },
  {
   "cell_type": "code",
   "execution_count": 45,
   "id": "212c6d12",
   "metadata": {},
   "outputs": [
    {
     "data": {
      "text/html": [
       "<div>\n",
       "<style scoped>\n",
       "    .dataframe tbody tr th:only-of-type {\n",
       "        vertical-align: middle;\n",
       "    }\n",
       "\n",
       "    .dataframe tbody tr th {\n",
       "        vertical-align: top;\n",
       "    }\n",
       "\n",
       "    .dataframe thead th {\n",
       "        text-align: right;\n",
       "    }\n",
       "</style>\n",
       "<table border=\"1\" class=\"dataframe\">\n",
       "  <thead>\n",
       "    <tr style=\"text-align: right;\">\n",
       "      <th></th>\n",
       "      <th>A1</th>\n",
       "      <th>A2</th>\n",
       "      <th>A3</th>\n",
       "      <th>A4</th>\n",
       "    </tr>\n",
       "  </thead>\n",
       "  <tbody>\n",
       "    <tr>\n",
       "      <th>P1</th>\n",
       "      <td>9.8</td>\n",
       "      <td>5.3</td>\n",
       "      <td>5.5</td>\n",
       "      <td>7.0</td>\n",
       "    </tr>\n",
       "    <tr>\n",
       "      <th>P2</th>\n",
       "      <td>7.2</td>\n",
       "      <td>4.0</td>\n",
       "      <td>8.1</td>\n",
       "      <td>7.5</td>\n",
       "    </tr>\n",
       "    <tr>\n",
       "      <th>P3</th>\n",
       "      <td>8.0</td>\n",
       "      <td>3.5</td>\n",
       "      <td>7.2</td>\n",
       "      <td>6.5</td>\n",
       "    </tr>\n",
       "  </tbody>\n",
       "</table>\n",
       "</div>"
      ],
      "text/plain": [
       "     A1   A2   A3   A4\n",
       "P1  9.8  5.3  5.5  7.0\n",
       "P2  7.2  4.0  8.1  7.5\n",
       "P3  8.0  3.5  7.2  6.5"
      ]
     },
     "execution_count": 45,
     "metadata": {},
     "output_type": "execute_result"
    }
   ],
   "source": [
    "notas"
   ]
  },
  {
   "cell_type": "code",
   "execution_count": 46,
   "id": "e008da92",
   "metadata": {},
   "outputs": [
    {
     "name": "stdout",
     "output_type": "stream",
     "text": [
      "A1    9.8\n",
      "A2    5.3\n",
      "A3    8.1\n",
      "A4    7.5\n",
      "dtype: float64\n"
     ]
    }
   ],
   "source": [
    "print(notas.max())"
   ]
  },
  {
   "cell_type": "code",
   "execution_count": 55,
   "id": "519582c4",
   "metadata": {},
   "outputs": [
    {
     "name": "stdout",
     "output_type": "stream",
     "text": [
      "P1    9.8\n",
      "P2    8.1\n",
      "P3    8.0\n",
      "dtype: float64\n"
     ]
    }
   ],
   "source": [
    "print(notas.max(axis=1))"
   ]
  },
  {
   "cell_type": "code",
   "execution_count": 53,
   "id": "75de8c98",
   "metadata": {},
   "outputs": [
    {
     "name": "stdout",
     "output_type": "stream",
     "text": [
      "P1    6.9\n",
      "P2    6.7\n",
      "P3    6.3\n",
      "dtype: float64\n"
     ]
    }
   ],
   "source": [
    "print(notas.mean(axis=1))"
   ]
  },
  {
   "cell_type": "code",
   "execution_count": 56,
   "id": "a90bc63a",
   "metadata": {},
   "outputs": [
    {
     "data": {
      "text/html": [
       "<div>\n",
       "<style scoped>\n",
       "    .dataframe tbody tr th:only-of-type {\n",
       "        vertical-align: middle;\n",
       "    }\n",
       "\n",
       "    .dataframe tbody tr th {\n",
       "        vertical-align: top;\n",
       "    }\n",
       "\n",
       "    .dataframe thead th {\n",
       "        text-align: right;\n",
       "    }\n",
       "</style>\n",
       "<table border=\"1\" class=\"dataframe\">\n",
       "  <thead>\n",
       "    <tr style=\"text-align: right;\">\n",
       "      <th></th>\n",
       "      <th>A1</th>\n",
       "      <th>A2</th>\n",
       "      <th>A3</th>\n",
       "      <th>A4</th>\n",
       "    </tr>\n",
       "  </thead>\n",
       "  <tbody>\n",
       "    <tr>\n",
       "      <th>P1</th>\n",
       "      <td>9.8</td>\n",
       "      <td>5.3</td>\n",
       "      <td>5.5</td>\n",
       "      <td>7.0</td>\n",
       "    </tr>\n",
       "    <tr>\n",
       "      <th>P2</th>\n",
       "      <td>7.2</td>\n",
       "      <td>4.0</td>\n",
       "      <td>8.1</td>\n",
       "      <td>7.5</td>\n",
       "    </tr>\n",
       "    <tr>\n",
       "      <th>P3</th>\n",
       "      <td>8.0</td>\n",
       "      <td>3.5</td>\n",
       "      <td>7.2</td>\n",
       "      <td>6.5</td>\n",
       "    </tr>\n",
       "  </tbody>\n",
       "</table>\n",
       "</div>"
      ],
      "text/plain": [
       "     A1   A2   A3   A4\n",
       "P1  9.8  5.3  5.5  7.0\n",
       "P2  7.2  4.0  8.1  7.5\n",
       "P3  8.0  3.5  7.2  6.5"
      ]
     },
     "execution_count": 56,
     "metadata": {},
     "output_type": "execute_result"
    }
   ],
   "source": [
    "notas"
   ]
  },
  {
   "cell_type": "code",
   "execution_count": 58,
   "id": "675af9a4",
   "metadata": {},
   "outputs": [
    {
     "name": "stdout",
     "output_type": "stream",
     "text": [
      "A1    9.8\n",
      "A2    5.3\n",
      "A3    8.1\n",
      "A4    7.5\n",
      "dtype: float64\n"
     ]
    }
   ],
   "source": [
    "print(notas.max(axis=0)) #max de cada coluna"
   ]
  },
  {
   "cell_type": "code",
   "execution_count": 59,
   "id": "edf13bef",
   "metadata": {},
   "outputs": [
    {
     "name": "stdout",
     "output_type": "stream",
     "text": [
      "P1    9.8\n",
      "P2    8.1\n",
      "P3    8.0\n",
      "dtype: float64\n"
     ]
    }
   ],
   "source": [
    "print(notas.max(axis=1)) #max de cada linha"
   ]
  },
  {
   "cell_type": "code",
   "execution_count": 60,
   "id": "7f968f84",
   "metadata": {},
   "outputs": [],
   "source": [
    "#Rankeamento"
   ]
  },
  {
   "cell_type": "code",
   "execution_count": null,
   "id": "3d88fbf8",
   "metadata": {},
   "outputs": [],
   "source": [
    "#P26 Estatísticas sobre colunas e linhas de um DataFrame\n",
    "#cria uma DataFrame com os nadadores\n",
    "prova = pd.DataFrame({\"nadador\":[\"Simonas\", \"Proud\", \"Ervin\", \"Manaudou\", \"Hovorov\"],\n",
    "                      \"nacionalidade\": [\"Lituania\", \"Gra Bretanha\", \"USA\", \"France\", \"Ukraine\"],\n",
    "                      \"Time\": [22.08, 21.68, 21.40, 21.41, 21.74]},\n",
    "                      index=[\"1\",\"2\",\"3, 4, 5\"])"
   ]
  }
 ],
 "metadata": {
  "kernelspec": {
   "display_name": "Python 3.9.6 64-bit",
   "language": "python",
   "name": "python3"
  },
  "language_info": {
   "codemirror_mode": {
    "name": "ipython",
    "version": 3
   },
   "file_extension": ".py",
   "mimetype": "text/x-python",
   "name": "python",
   "nbconvert_exporter": "python",
   "pygments_lexer": "ipython3",
   "version": "3.9.6"
  },
  "vscode": {
   "interpreter": {
    "hash": "aee8b7b246df8f9039afb4144a1f6fd8d2ca17a180786b69acc140d282b71a49"
   }
  }
 },
 "nbformat": 4,
 "nbformat_minor": 5
}
